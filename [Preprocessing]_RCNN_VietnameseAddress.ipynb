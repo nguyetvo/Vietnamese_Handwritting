{
  "nbformat": 4,
  "nbformat_minor": 0,
  "metadata": {
    "colab": {
      "name": "[Preprocessing] RCNN_VietnameseAddress.ipynb",
      "version": "0.3.2",
      "provenance": []
    },
    "kernelspec": {
      "name": "python3",
      "display_name": "Python 3"
    },
    "accelerator": "GPU"
  },
  "cells": [
    {
      "metadata": {
        "id": "pLzqZC4ZNJmL",
        "colab_type": "code",
        "colab": {
          "base_uri": "https://localhost:8080/",
          "height": 171
        },
        "outputId": "e94e0851-a659-46ab-db10-247dbf8da11c"
      },
      "cell_type": "code",
      "source": [
        "# Load the Drive helper and mount\n",
        "from google.colab import drive\n",
        "\n",
        "# This will prompt for authorization.\n",
        "drive.mount('/content/drive')"
      ],
      "execution_count": 1,
      "outputs": [
        {
          "output_type": "stream",
          "text": [
            "Go to this URL in a browser: https://accounts.google.com/o/oauth2/auth?client_id=947318989803-6bn6qk8qdgf4n4g3pfee6491hc0brc4i.apps.googleusercontent.com&redirect_uri=urn%3Aietf%3Awg%3Aoauth%3A2.0%3Aoob&scope=email%20https%3A%2F%2Fwww.googleapis.com%2Fauth%2Fdocs.test%20https%3A%2F%2Fwww.googleapis.com%2Fauth%2Fdrive%20https%3A%2F%2Fwww.googleapis.com%2Fauth%2Fdrive.photos.readonly%20https%3A%2F%2Fwww.googleapis.com%2Fauth%2Fpeopleapi.readonly&response_type=code\n",
            "\n",
            "Enter your authorization code:\n",
            "··········\n",
            "Mounted at /content/drive\n"
          ],
          "name": "stdout"
        }
      ]
    },
    {
      "metadata": {
        "id": "OD3frRLuPSnj",
        "colab_type": "code",
        "colab": {
          "base_uri": "https://localhost:8080/",
          "height": 227
        },
        "outputId": "940c78b1-67e3-489f-9f75-1a580e87da70"
      },
      "cell_type": "code",
      "source": [
        "#Extracting dataset\n",
        "\n",
        "!tar -xzf 'drive/My Drive/Machine_Learning-prj/vietnamese_address/data.tar.gz'"
      ],
      "execution_count": 1,
      "outputs": [
        {
          "output_type": "stream",
          "text": [
            "Archive:  drive/My Drive/Machine_Learning-prj/vietnamese_address/data.tar.gz\n",
            "  End-of-central-directory signature not found.  Either this file is not\n",
            "  a zipfile, or it constitutes one disk of a multi-part archive.  In the\n",
            "  latter case the central directory and zipfile comment will be found on\n",
            "  the last disk(s) of this archive.\n",
            "unzip:  cannot find zipfile directory in one of drive/My Drive/Machine_Learning-prj/vietnamese_address/data.tar.gz or\n",
            "        drive/My Drive/Machine_Learning-prj/vietnamese_address/data.tar.gz.zip, and cannot find drive/My Drive/Machine_Learning-prj/vietnamese_address/data.tar.gz.ZIP, period.\n"
          ],
          "name": "stdout"
        }
      ]
    },
    {
      "metadata": {
        "id": "vbEkrixEb3m7",
        "colab_type": "code",
        "colab": {
          "base_uri": "https://localhost:8080/",
          "height": 36
        },
        "outputId": "44e857cf-63de-48e1-c728-eedebbe68172"
      },
      "cell_type": "code",
      "source": [
        "ls"
      ],
      "execution_count": 3,
      "outputs": [
        {
          "output_type": "stream",
          "text": [
            "\u001b[0m\u001b[01;34mdrive\u001b[0m/  \u001b[01;34mimages\u001b[0m/  \u001b[01;34msample_data\u001b[0m/  transcription.pk\n"
          ],
          "name": "stdout"
        }
      ]
    },
    {
      "metadata": {
        "id": "XLhjraQfYz9E",
        "colab_type": "code",
        "colab": {}
      },
      "cell_type": "code",
      "source": [
        "import pickle\n",
        "\n",
        "with open('transcription.pk', 'rb') as f:\n",
        "    scripts = pickle.load(f)"
      ],
      "execution_count": 0,
      "outputs": []
    },
    {
      "metadata": {
        "id": "Uq5bY7TUZPvF",
        "colab_type": "code",
        "colab": {
          "base_uri": "https://localhost:8080/",
          "height": 36
        },
        "outputId": "649bb0ab-cdd9-4417-fa7d-e09104cd7b3c"
      },
      "cell_type": "code",
      "source": [
        "list(scripts[10].values())[0]"
      ],
      "execution_count": 2,
      "outputs": [
        {
          "output_type": "execute_result",
          "data": {
            "text/plain": [
              "'bốn người thợ liệm - vốn cũng là công nhân đào vàng - đang tiếp tục công'"
            ]
          },
          "metadata": {
            "tags": []
          },
          "execution_count": 2
        }
      ]
    },
    {
      "metadata": {
        "id": "izh2_wcCPthU",
        "colab_type": "code",
        "colab": {}
      },
      "cell_type": "code",
      "source": [
        "files_name = []\n",
        "labels = []\n",
        "\n",
        "\n",
        "for script in scripts:\n",
        "    files_name.append(list(script.keys())[0])\n",
        "    labels.append(list(script.values())[0])"
      ],
      "execution_count": 0,
      "outputs": []
    },
    {
      "metadata": {
        "id": "hv97O56QXdZS",
        "colab_type": "code",
        "colab": {
          "base_uri": "https://localhost:8080/",
          "height": 36
        },
        "outputId": "54d36a9f-61e9-400c-a60c-81e9a0ed7eba"
      },
      "cell_type": "code",
      "source": [
        "len(files_name), len(labels)"
      ],
      "execution_count": 4,
      "outputs": [
        {
          "output_type": "execute_result",
          "data": {
            "text/plain": [
              "(7296, 7296)"
            ]
          },
          "metadata": {
            "tags": []
          },
          "execution_count": 4
        }
      ]
    },
    {
      "metadata": {
        "id": "973vPEQ7UZ93",
        "colab_type": "code",
        "colab": {}
      },
      "cell_type": "code",
      "source": [
        "#Reading and resize data to 32*128\n",
        "\n",
        "from matplotlib import pyplot as PLT\n",
        "import cv2"
      ],
      "execution_count": 0,
      "outputs": []
    },
    {
      "metadata": {
        "id": "DYT2qWbI-SLW",
        "colab_type": "code",
        "colab": {
          "base_uri": "https://localhost:8080/",
          "height": 502
        },
        "outputId": "a5fa9dae-2235-45d0-f5b1-c3f194c7850f"
      },
      "cell_type": "code",
      "source": [
        "img = cv2.imread(files_name[6598], 0)\n",
        "img = 255 - img\n",
        "# _, img = cv2.threshold(img, 220, 255, cv2.THRESH_BINARY)\n",
        "PLT.imshow(img)\n",
        "print(img)\n",
        "print(labels[6598])"
      ],
      "execution_count": 6,
      "outputs": [
        {
          "output_type": "stream",
          "text": [
            "[[0 0 0 ... 0 0 0]\n",
            " [0 0 0 ... 0 0 0]\n",
            " [0 0 0 ... 0 0 0]\n",
            " ...\n",
            " [0 0 0 ... 0 0 0]\n",
            " [0 0 0 ... 0 0 0]\n",
            " [0 0 0 ... 0 0 0]]\n",
            "Hải\n"
          ],
          "name": "stdout"
        },
        {
          "output_type": "display_data",
          "data": {
            "image/png": "[encoded data removed]",
            "text/plain": [
              "<matplotlib.figure.Figure at 0x7f509fb96b38>"
            ]
          },
          "metadata": {
            "tags": []
          }
        }
      ]
    },
    {
      "metadata": {
        "id": "o6LpdzggeGW0",
        "colab_type": "code",
        "colab": {
          "base_uri": "https://localhost:8080/",
          "height": 404
        },
        "outputId": "6adbe369-febe-4c95-bb85-96870f2ae837"
      },
      "cell_type": "code",
      "source": [
        "import numpy as np\n",
        "\n",
        "y_min = np.min(np.where(img == 255)[0])\n",
        "y_max = np.max(np.where(img == 255)[0])\n",
        "print(y_min, y_max)\n",
        "x_min = np.min(np.where(img == 255)[1])\n",
        "x_max = np.max(np.where(img == 255)[1])\n",
        "print(x_min, x_max)\n",
        "img = img[y_min:y_max, x_min:x_max]\n",
        "PLT.imshow(img)"
      ],
      "execution_count": 7,
      "outputs": [
        {
          "output_type": "stream",
          "text": [
            "136 163\n",
            "60 90\n"
          ],
          "name": "stdout"
        },
        {
          "output_type": "execute_result",
          "data": {
            "text/plain": [
              "<matplotlib.image.AxesImage at 0x7f5095cfa6d8>"
            ]
          },
          "metadata": {
            "tags": []
          },
          "execution_count": 7
        },
        {
          "output_type": "display_data",
          "data": {
            "image/png": "[encoded data removed]",
            "text/plain": [
              "<matplotlib.figure.Figure at 0x7f5098570b00>"
            ]
          },
          "metadata": {
            "tags": []
          }
        }
      ]
    },
    {
      "metadata": {
        "id": "uPJ94JNgjGXA",
        "colab_type": "code",
        "colab": {
          "base_uri": "https://localhost:8080/",
          "height": 36
        },
        "outputId": "27f39052-57e0-4031-dfa4-ead02cf7cc58"
      },
      "cell_type": "code",
      "source": [
        "from tqdm import tqdm\n",
        "\n",
        "images = []\n",
        "error_index = []\n",
        "for i, file_name in tqdm(enumerate(files_name)):\n",
        "    img = cv2.imread(file_name, 0)\n",
        "    img = 255 - img\n",
        "    y_min = np.min(np.where(img > 127)[0])\n",
        "    y_max = np.max(np.where(img > 127)[0])\n",
        "    x_min = np.min(np.where(img > 127)[1])\n",
        "    x_max = np.max(np.where(img > 127)[1])\n",
        "    img = img[y_min:y_max, x_min:x_max]\n",
        "    try:\n",
        "        img = cv2.resize(img, (int(img.shape[1]*64/img.shape[0]), 64))\n",
        "        images.append(img)\n",
        "    except:\n",
        "        print(\"ERROR FOUND AT: \" + str(i))\n",
        "        error_index.append(i)"
      ],
      "execution_count": 8,
      "outputs": [
        {
          "output_type": "stream",
          "text": [
            "7296it [02:01, 60.20it/s]\n"
          ],
          "name": "stderr"
        }
      ]
    },
    {
      "metadata": {
        "id": "JT6rU-azpjXf",
        "colab_type": "code",
        "colab": {
          "base_uri": "https://localhost:8080/",
          "height": 36
        },
        "outputId": "67a766e0-9ba3-4274-f7cc-5b9b0262c39d"
      },
      "cell_type": "code",
      "source": [
        "len(error_index), len(labels)"
      ],
      "execution_count": 9,
      "outputs": [
        {
          "output_type": "execute_result",
          "data": {
            "text/plain": [
              "(0, 7296)"
            ]
          },
          "metadata": {
            "tags": []
          },
          "execution_count": 9
        }
      ]
    },
    {
      "metadata": {
        "id": "E2ABkD-3pwV2",
        "colab_type": "code",
        "colab": {}
      },
      "cell_type": "code",
      "source": [
        "# count = 0\n",
        "# for e in error_index:\n",
        "#     del labels[e-count]\n",
        "#     count += 1"
      ],
      "execution_count": 0,
      "outputs": []
    },
    {
      "metadata": {
        "id": "u16gp6Tn-5Bt",
        "colab_type": "code",
        "colab": {
          "base_uri": "https://localhost:8080/",
          "height": 36
        },
        "outputId": "cd9383aa-e3dc-4477-bdd9-3e9b2499cd92"
      },
      "cell_type": "code",
      "source": [
        "import numpy as np\n",
        "a = max([np.shape(images[i])[1] for i in range(len(images))])\n",
        "print(a)"
      ],
      "execution_count": 29,
      "outputs": [
        {
          "output_type": "stream",
          "text": [
            "1595\n"
          ],
          "name": "stdout"
        }
      ]
    },
    {
      "metadata": {
        "id": "RxkqbH16ndKz",
        "colab_type": "code",
        "colab": {}
      },
      "cell_type": "code",
      "source": [
        "len_images = [img.shape[1] for img in images]"
      ],
      "execution_count": 0,
      "outputs": []
    },
    {
      "metadata": {
        "id": "47Oiqkp-nhFr",
        "colab_type": "code",
        "colab": {}
      },
      "cell_type": "code",
      "source": [
        "too_length_index = np.where(np.array(len_images)>1600)[0]"
      ],
      "execution_count": 0,
      "outputs": []
    },
    {
      "metadata": {
        "id": "wsUMP-QFsAh7",
        "colab_type": "code",
        "colab": {}
      },
      "cell_type": "code",
      "source": [
        "count = 0\n",
        "for l in too_length_index:\n",
        "    del images[l-count]\n",
        "    del labels[l-count]\n",
        "    count += 1"
      ],
      "execution_count": 0,
      "outputs": []
    },
    {
      "metadata": {
        "id": "siEsjilwsXOU",
        "colab_type": "code",
        "colab": {
          "base_uri": "https://localhost:8080/",
          "height": 36
        },
        "outputId": "b9095e3a-29b5-4d55-d005-0625bbd503e6"
      },
      "cell_type": "code",
      "source": [
        "len(images), len(labels)"
      ],
      "execution_count": 28,
      "outputs": [
        {
          "output_type": "execute_result",
          "data": {
            "text/plain": [
              "(7260, 7260)"
            ]
          },
          "metadata": {
            "tags": []
          },
          "execution_count": 28
        }
      ]
    },
    {
      "metadata": {
        "id": "BmSScxITnl9z",
        "colab_type": "code",
        "colab": {
          "base_uri": "https://localhost:8080/",
          "height": 99
        },
        "outputId": "d3e5e1d3-be88-4af6-8d81-b820c6c73339"
      },
      "cell_type": "code",
      "source": [
        "x = 7000\n",
        "PLT.imshow(images[x])\n",
        "print(labels[x])"
      ],
      "execution_count": 31,
      "outputs": [
        {
          "output_type": "stream",
          "text": [
            "vừa ra trường từ phố núi xuống thành phố tìm việc làm. Lơ ngơ thế nào, chàng\n"
          ],
          "name": "stdout"
        },
        {
          "output_type": "display_data",
          "data": {
            "image/png": "[encoded data removed]",
            "text/plain": [
              "<matplotlib.figure.Figure at 0x7f5094a06c50>"
            ]
          },
          "metadata": {
            "tags": []
          }
        }
      ]
    },
    {
      "metadata": {
        "id": "GWiMcHTglBqA",
        "colab_type": "code",
        "colab": {}
      },
      "cell_type": "code",
      "source": [
        "# images_padded = []\n",
        "# for img in images:\n",
        "#     img = cv2.copyMakeBorder(img, 0, 0, 0, 2862 - img.shape[1] ,cv2.BORDER_CONSTANT,value=1)\n",
        "#     images_padded.append(img)"
      ],
      "execution_count": 0,
      "outputs": []
    },
    {
      "metadata": {
        "id": "FRtMvzbPoBZh",
        "colab_type": "code",
        "colab": {}
      },
      "cell_type": "code",
      "source": [
        "import pickle\n",
        "\n",
        "with open('drive/My Drive/Machine_Learning-prj/vietnamese_address/images_64_1595.pkl', 'wb') as f:\n",
        "    pickle.dump(images, f)\n",
        "    \n",
        "with open('drive/My Drive/Machine_Learning-prj/vietnamese_address/scripts_64_1595.pkl', 'wb') as f:\n",
        "    pickle.dump(labels, f)"
      ],
      "execution_count": 0,
      "outputs": []
    },
    {
      "metadata": {
        "id": "49das9vApa6o",
        "colab_type": "code",
        "colab": {}
      },
      "cell_type": "code",
      "source": [
        "#Extracting dataset\n",
        "\n",
        "!unzip 'drive/My Drive/Machine_Learning-prj/vietnamese_address/vietnamese'"
      ],
      "execution_count": 0,
      "outputs": []
    },
    {
      "metadata": {
        "id": "cTn_UXnM3gbw",
        "colab_type": "code",
        "colab": {
          "base_uri": "https://localhost:8080/",
          "height": 65
        },
        "outputId": "dc45742e-d29f-4213-f27e-946065121543"
      },
      "cell_type": "code",
      "source": [
        "ls"
      ],
      "execution_count": 6,
      "outputs": [
        {
          "output_type": "stream",
          "text": [
            "\u001b[0m\u001b[01;34m0916_Data Samples 2\u001b[0m/  \u001b[01;34mdrive\u001b[0m/  \u001b[01;34msample_data\u001b[0m/\n"
          ],
          "name": "stdout"
        }
      ]
    },
    {
      "metadata": {
        "id": "Jv_TU6cI3iM1",
        "colab_type": "code",
        "colab": {}
      },
      "cell_type": "code",
      "source": [
        "import json\n",
        "\n",
        "with open('0916_Data Samples 2/labels.json', 'r') as f:\n",
        "    scripts = f.read()"
      ],
      "execution_count": 0,
      "outputs": []
    },
    {
      "metadata": {
        "id": "kfjIybhO4c_R",
        "colab_type": "code",
        "colab": {}
      },
      "cell_type": "code",
      "source": [
        "json_data = json.loads(scripts)"
      ],
      "execution_count": 0,
      "outputs": []
    },
    {
      "metadata": {
        "id": "2ygy4JqL4d2D",
        "colab_type": "code",
        "colab": {}
      },
      "cell_type": "code",
      "source": [
        "keys = list(json_data.keys())"
      ],
      "execution_count": 0,
      "outputs": []
    },
    {
      "metadata": {
        "id": "zUiKnD5G6ED-",
        "colab_type": "code",
        "colab": {}
      },
      "cell_type": "code",
      "source": [
        "files_name = []\n",
        "labels = []\n",
        "\n",
        "\n",
        "for i, k in enumerate(keys):\n",
        "    files_name.append('0916_Data Samples 2/'+k)\n",
        "    labels.append(json_data[keys[i]])"
      ],
      "execution_count": 0,
      "outputs": []
    },
    {
      "metadata": {
        "id": "ML1UAjlM6nsW",
        "colab_type": "code",
        "colab": {
          "base_uri": "https://localhost:8080/",
          "height": 34
        },
        "outputId": "7570487a-b774-4009-a097-8e43bc153d84"
      },
      "cell_type": "code",
      "source": [
        "len(files_name), len(labels)"
      ],
      "execution_count": 76,
      "outputs": [
        {
          "output_type": "execute_result",
          "data": {
            "text/plain": [
              "(1823, 1818)"
            ]
          },
          "metadata": {
            "tags": []
          },
          "execution_count": 76
        }
      ]
    },
    {
      "metadata": {
        "id": "DQcx7rWc6q3u",
        "colab_type": "code",
        "colab": {}
      },
      "cell_type": "code",
      "source": [
        "#Reading and resize data to 32*128\n",
        "\n",
        "from matplotlib import pyplot as PLT\n",
        "import cv2"
      ],
      "execution_count": 0,
      "outputs": []
    },
    {
      "metadata": {
        "id": "YP0AMQ5f6ttJ",
        "colab_type": "code",
        "colab": {
          "base_uri": "https://localhost:8080/",
          "height": 213
        },
        "outputId": "c7aaa74f-1905-4fdb-b895-45e3971b55b0"
      },
      "cell_type": "code",
      "source": [
        "img = cv2.imread(files_name[598], 0)\n",
        "_, img = cv2.threshold(img, 220, 255, cv2.THRESH_BINARY)\n",
        "img = 255 - img\n",
        "PLT.imshow(img)\n",
        "print(img)\n",
        "print(labels[598])"
      ],
      "execution_count": 58,
      "outputs": [
        {
          "output_type": "stream",
          "text": [
            "[[0 0 0 ... 0 0 0]\n",
            " [0 0 0 ... 0 0 0]\n",
            " [0 0 0 ... 0 0 0]\n",
            " ...\n",
            " [0 0 0 ... 0 0 0]\n",
            " [0 0 0 ... 0 0 0]\n",
            " [0 0 0 ... 0 0 0]]\n",
            "180 Đường số 3, Phường 9, Quận Gò Vấp, TP Hồ Chí Minh\n"
          ],
          "name": "stdout"
        },
        {
          "output_type": "display_data",
          "data": {
            "image/png": "[encoded data removed]",
            "text/plain": [
              "<matplotlib.figure.Figure at 0x7f24d27675c0>"
            ]
          },
          "metadata": {
            "tags": []
          }
        }
      ]
    },
    {
      "metadata": {
        "id": "M-j_3Gnh6yut",
        "colab_type": "code",
        "colab": {
          "base_uri": "https://localhost:8080/",
          "height": 128
        },
        "outputId": "d8959f48-a9b1-42dc-f809-c86fdd43ba9e"
      },
      "cell_type": "code",
      "source": [
        "import numpy as np\n",
        "\n",
        "y_min = np.min(np.where(img == 255)[0])\n",
        "y_max = np.max(np.where(img == 255)[0])\n",
        "print(y_min, y_max)\n",
        "x_min = np.min(np.where(img == 255)[1])\n",
        "x_max = np.max(np.where(img == 255)[1])\n",
        "print(x_min, x_max)\n",
        "img = img[y_min:y_max, x_min:x_max]\n",
        "PLT.imshow(img)"
      ],
      "execution_count": 59,
      "outputs": [
        {
          "output_type": "stream",
          "text": [
            "13 102\n",
            "24 1581\n"
          ],
          "name": "stdout"
        },
        {
          "output_type": "execute_result",
          "data": {
            "text/plain": [
              "<matplotlib.image.AxesImage at 0x7f24d27a6748>"
            ]
          },
          "metadata": {
            "tags": []
          },
          "execution_count": 59
        },
        {
          "output_type": "display_data",
          "data": {
            "image/png": "[encoded data removed]",
            "text/plain": [
              "<matplotlib.figure.Figure at 0x7f24d294f9b0>"
            ]
          },
          "metadata": {
            "tags": []
          }
        }
      ]
    },
    {
      "metadata": {
        "id": "Q_hVTLEI7Kgd",
        "colab_type": "code",
        "colab": {
          "base_uri": "https://localhost:8080/",
          "height": 34
        },
        "outputId": "47dfad6c-db3b-40cc-8b46-ff93350f208c"
      },
      "cell_type": "code",
      "source": [
        "from tqdm import tqdm\n",
        "\n",
        "images = []\n",
        "error_index = []\n",
        "for i, file_name in tqdm(enumerate(files_name)):\n",
        "    img = cv2.imread(files_name[i], 0)\n",
        "    _, img = cv2.threshold(img, 220, 255, cv2.THRESH_BINARY)\n",
        "    img = 255 - img\n",
        "    \n",
        "    y_min = np.min(np.where(img > 127)[0])\n",
        "    y_max = np.max(np.where(img > 127)[0])\n",
        "    x_min = np.min(np.where(img > 127)[1])\n",
        "    x_max = np.max(np.where(img > 127)[1])\n",
        "    img = img[y_min:y_max, x_min:x_max]\n",
        "    try:\n",
        "        img = cv2.resize(img, (int(img.shape[1]*64/img.shape[0]), 64))\n",
        "        images.append(img)\n",
        "    except:\n",
        "        print(\"ERROR FOUND AT: \" + str(i))\n",
        "        error_index.append(i)"
      ],
      "execution_count": 63,
      "outputs": [
        {
          "output_type": "stream",
          "text": [
            "1823it [00:17, 104.06it/s]\n"
          ],
          "name": "stderr"
        }
      ]
    },
    {
      "metadata": {
        "id": "KQjM9AsA7d6n",
        "colab_type": "code",
        "colab": {
          "base_uri": "https://localhost:8080/",
          "height": 34
        },
        "outputId": "e2eb0d9b-c5c7-4299-ea8d-03a0c2a1c1a2"
      },
      "cell_type": "code",
      "source": [
        "import numpy as np\n",
        "a = max([np.shape(images[i])[1] for i in range(len(images))])\n",
        "print(a)"
      ],
      "execution_count": 64,
      "outputs": [
        {
          "output_type": "stream",
          "text": [
            "1878\n"
          ],
          "name": "stdout"
        }
      ]
    },
    {
      "metadata": {
        "id": "Lb8-j8Ey7jM_",
        "colab_type": "code",
        "colab": {
          "base_uri": "https://localhost:8080/",
          "height": 96
        },
        "outputId": "9aea851b-76b4-4f7a-98c0-c002a1318102"
      },
      "cell_type": "code",
      "source": [
        "x = 1822\n",
        "PLT.imshow(images[x])\n",
        "print(labels[x])"
      ],
      "execution_count": 69,
      "outputs": [
        {
          "output_type": "stream",
          "text": [
            "Số 171A, Đường Điện Biên, Phường Lê Lợi, Thành phố Hưng yên, Hưng Yên\n"
          ],
          "name": "stdout"
        },
        {
          "output_type": "display_data",
          "data": {
            "image/png": "[encoded data removed]",
            "text/plain": [
              "<matplotlib.figure.Figure at 0x7f24d2876b70>"
            ]
          },
          "metadata": {
            "tags": []
          }
        }
      ]
    },
    {
      "metadata": {
        "id": "QXvojviX8gdF",
        "colab_type": "code",
        "colab": {}
      },
      "cell_type": "code",
      "source": [
        "len_images = [img.shape[1] for img in images]"
      ],
      "execution_count": 0,
      "outputs": []
    },
    {
      "metadata": {
        "id": "avBm9Mm98Znx",
        "colab_type": "code",
        "colab": {}
      },
      "cell_type": "code",
      "source": [
        "too_length_index = np.where(np.array(len_images)>1595)[0]"
      ],
      "execution_count": 0,
      "outputs": []
    },
    {
      "metadata": {
        "id": "yr9Kq1JG8kGj",
        "colab_type": "code",
        "colab": {}
      },
      "cell_type": "code",
      "source": [
        "count = 0\n",
        "for l in too_length_index:\n",
        "    del images[l-count]\n",
        "    del labels[l-count]\n",
        "    count += 1"
      ],
      "execution_count": 0,
      "outputs": []
    },
    {
      "metadata": {
        "id": "x5RSiX2B7q7Q",
        "colab_type": "code",
        "colab": {}
      },
      "cell_type": "code",
      "source": [
        "import pickle\n",
        "\n",
        "with open('drive/My Drive/Machine_Learning-prj/vietnamese_address/images_address.pkl', 'wb') as f:\n",
        "    pickle.dump(images, f)\n",
        "    \n",
        "with open('drive/My Drive/Machine_Learning-prj/vietnamese_address/scripts_address.pkl', 'wb') as f:\n",
        "    pickle.dump(labels, f)"
      ],
      "execution_count": 0,
      "outputs": []
    },
    {
      "metadata": {
        "id": "mlaKxBwm8sLq",
        "colab_type": "code",
        "colab": {}
      },
      "cell_type": "code",
      "source": [
        ""
      ],
      "execution_count": 0,
      "outputs": []
    }
  ]
}