{
  "nbformat": 4,
  "nbformat_minor": 0,
  "metadata": {
    "colab": {
      "name": "Predict_CTC_Vietnamese_Address.ipynb",
      "version": "0.3.2",
      "provenance": []
    },
    "kernelspec": {
      "name": "python3",
      "display_name": "Python 3"
    },
    "accelerator": "GPU"
  },
  "cells": [
    {
      "metadata": {
        "id": "vcoiJxb1hutJ",
        "colab_type": "code",
        "colab": {
          "base_uri": "https://localhost:8080/",
          "height": 132
        },
        "outputId": "b6456b83-d7a1-4b94-a677-1a283c5e45a7"
      },
      "cell_type": "code",
      "source": [
        "from google.colab import drive\n",
        "\n",
        "# This will prompt for authorization.\n",
        "drive.mount('/content/drive')"
      ],
      "execution_count": 1,
      "outputs": [
        {
          "output_type": "stream",
          "text": [
            "Go to this URL in a browser: https://accounts.google.com/o/oauth2/auth?client_id=947318989803-6bn6qk8qdgf4n4g3pfee6491hc0brc4i.apps.googleusercontent.com&redirect_uri=urn%3Aietf%3Awg%3Aoauth%3A2.0%3Aoob&scope=email%20https%3A%2F%2Fwww.googleapis.com%2Fauth%2Fdocs.test%20https%3A%2F%2Fwww.googleapis.com%2Fauth%2Fdrive%20https%3A%2F%2Fwww.googleapis.com%2Fauth%2Fdrive.photos.readonly%20https%3A%2F%2Fwww.googleapis.com%2Fauth%2Fpeopleapi.readonly&response_type=code\n",
            "\n",
            "Enter your authorization code:\n",
            "··········\n",
            "Mounted at /content/drive\n"
          ],
          "name": "stdout"
        }
      ]
    },
    {
      "metadata": {
        "id": "unhpKRtKh4No",
        "colab_type": "code",
        "colab": {
          "base_uri": "https://localhost:8080/",
          "height": 36
        },
        "outputId": "b9e10fa3-8202-4681-f852-61c00608244d"
      },
      "cell_type": "code",
      "source": [
        "from keras.models import load_model\n",
        "from keras.models import Model\n",
        "from keras.layers import Conv2D, MaxPooling2D, Activation, GRU, Dense, Input, Add, Concatenate, Reshape, Lambda\n",
        "from keras.optimizers import SGD\n",
        "from keras import backend as K\n",
        "import numpy as np\n",
        "import keras"
      ],
      "execution_count": 2,
      "outputs": [
        {
          "output_type": "stream",
          "text": [
            "Using TensorFlow backend.\n"
          ],
          "name": "stderr"
        }
      ]
    },
    {
      "metadata": {
        "id": "KXSgxYhjmdZZ",
        "colab_type": "code",
        "colab": {}
      },
      "cell_type": "code",
      "source": [
        "import pickle\n",
        "\n",
        "with open('drive/My Drive/Machine_Learning-prj/vietnamese_address/images_64_1595.pkl', 'rb') as f:\n",
        "    images = pickle.load(f)\n",
        "    \n",
        "with open('drive/My Drive/Machine_Learning-prj/vietnamese_address/scripts_64_1595.pkl', 'rb') as f:\n",
        "    scripts = pickle.load(f)"
      ],
      "execution_count": 0,
      "outputs": []
    },
    {
      "metadata": {
        "id": "Ia1P1VqyEZbU",
        "colab_type": "code",
        "colab": {}
      },
      "cell_type": "code",
      "source": [
        "import pickle\n",
        "\n",
        "with open('drive/My Drive/Machine_Learning-prj/vietnamese_address/images_address.pkl', 'rb') as f:\n",
        "    images_address = pickle.load(f)\n",
        "    \n",
        "with open('drive/My Drive/Machine_Learning-prj/vietnamese_address/scripts_address.pkl', 'rb') as f:\n",
        "    scripts_address = pickle.load(f)"
      ],
      "execution_count": 0,
      "outputs": []
    },
    {
      "metadata": {
        "id": "9TVyxAQ9iaHZ",
        "colab_type": "code",
        "colab": {}
      },
      "cell_type": "code",
      "source": [
        "def ctc_lambda_func(args):\n",
        "    y_pred, labels, input_length, label_length = args\n",
        "    # the 2 is critical here since the first couple outputs of the RNN\n",
        "    # tend to be garbage:\n",
        "    y_pred = y_pred[:, 2:, :]\n",
        "    return K.ctc_batch_cost(labels, y_pred, input_length, label_length)"
      ],
      "execution_count": 0,
      "outputs": []
    },
    {
      "metadata": {
        "id": "9JFa5rjuixrF",
        "colab_type": "code",
        "colab": {}
      },
      "cell_type": "code",
      "source": [
        "alphabet = u'\\ !%\"#&\\'()*+,-./0123456789:;?AÁẢÀÃẠÂẤẨẦẪẬĂẮẲẰẴẶBCDĐEÉẺÈẼẸÊẾỂỀỄỆFGHIÍỈÌĨỊJKLMNOÓỎÒÕỌÔỐỔỒỖỘƠỚỞỜỠỢPQRSTUÚỦÙŨỤƯỨỬỪỮỰVWXYÝỶỲỸỴZaáảàãạâấẩầẫậăắẳằẵặbcdđeéẻèẽẹêếểềễệfghiíỉìĩịjklmnoóỏòõọôốổồỗộơớởờỡợpqrstuúủùũụưứửừữựvwxyýỷỳỹỵz'\n",
        "\n",
        "def text_to_labels(text):\n",
        "    ret = []\n",
        "    for char in text:\n",
        "        ret.append(alphabet.find(char))\n",
        "    return ret\n",
        "\n",
        "\n",
        "# Reverse translation of numerical classes back to characters\n",
        "def labels_to_text(labels):\n",
        "    ret = []\n",
        "    for c in labels:\n",
        "        if c == len(alphabet):  # CTC Blank\n",
        "            ret.append(\"\")\n",
        "        else:\n",
        "            ret.append(alphabet[c])\n",
        "    return \"\".join(ret)"
      ],
      "execution_count": 0,
      "outputs": []
    },
    {
      "metadata": {
        "id": "sDGsDzS0iynb",
        "colab_type": "code",
        "colab": {
          "base_uri": "https://localhost:8080/",
          "height": 834
        },
        "outputId": "e66d9304-a80a-4610-f60e-f681cec79dec"
      },
      "cell_type": "code",
      "source": [
        "img_w = 1595\n",
        "# Input Parameters\n",
        "img_h = 64\n",
        "# Network parameters\n",
        "conv_filters = 16\n",
        "kernel_size = (3, 3)\n",
        "pool_size = 2\n",
        "time_dense_size = 256\n",
        "rnn_size = 256\n",
        "minibatch_size = 32\n",
        "unique_tokens = 216\n",
        "\n",
        " \n",
        "input_shape = (img_w, img_h, 1)\n",
        "\n",
        "act = 'relu'\n",
        "input_data = Input(name='the_input', shape=input_shape, dtype='float32')\n",
        "\n",
        "inner = Conv2D(64, 3, padding='same', activation=act,name='conv1', kernel_initializer='he_normal')(input_data)\n",
        "inner = MaxPooling2D(pool_size=(2, 2), name='max1')(inner)\n",
        "inner = Conv2D(128, 3, padding='same',activation=act, name='conv2', kernel_initializer='he_normal')(inner)\n",
        "inner = MaxPooling2D(pool_size=(2, 2), name='max2')(inner)\n",
        "\n",
        "inner = Conv2D(256, 3, padding='same',activation=act, name='conv3', kernel_initializer='he_normal')(inner)\n",
        "inner = MaxPooling2D(pool_size=(2, 2), name='max3')(inner)\n",
        "\n",
        "conv_to_rnn_dims = (256, 199*8)\n",
        "inner = Reshape(target_shape=conv_to_rnn_dims, name='reshape')(inner)\n",
        "\n",
        "# cuts down input size going into RNN:\n",
        "inner = Dense(time_dense_size, activation=act, kernel_initializer='he_normal', name='dense1')(inner)\n",
        "\n",
        "# Two layers of bidirectional GRUs\n",
        "# GRU seems to work as well, if not better than LSTM:\n",
        "gru_1 = GRU(rnn_size, return_sequences=True, kernel_initializer='he_normal', name='gru1')(inner)\n",
        "gru_1b = GRU(rnn_size, return_sequences=True, go_backwards=True, kernel_initializer='he_normal', name='gru1_b')(inner)\n",
        "gru1_merged = Add()([gru_1, gru_1b])\n",
        "gru_2 = GRU(rnn_size, return_sequences=True, kernel_initializer='he_normal', name='gru2')(gru1_merged)\n",
        "gru_2b = GRU(rnn_size, return_sequences=True, kernel_initializer='he_normal', go_backwards=True, name='gru2_b')(gru1_merged)\n",
        "\n",
        "# transforms RNN output to character activations:\n",
        "inner = Dense(unique_tokens,name='dense2')(Concatenate()([gru_2, gru_2b]))\n",
        "y_pred = Activation('softmax', name='softmax')(inner)\n",
        "\n",
        "# #Get text predict\n",
        "# out = K.get_value(K.ctc_decode(y_pred, input_length=np.ones(y_pred.shape[0])*y_pred.shape[1],\n",
        "#                          greedy=True)[0][0])\n",
        "\n",
        "Model(inputs=input_data, outputs=y_pred).summary()"
      ],
      "execution_count": 7,
      "outputs": [
        {
          "output_type": "stream",
          "text": [
            "__________________________________________________________________________________________________\n",
            "Layer (type)                    Output Shape         Param #     Connected to                     \n",
            "==================================================================================================\n",
            "the_input (InputLayer)          (None, 1595, 64, 1)  0                                            \n",
            "__________________________________________________________________________________________________\n",
            "conv1 (Conv2D)                  (None, 1595, 64, 64) 640         the_input[0][0]                  \n",
            "__________________________________________________________________________________________________\n",
            "max1 (MaxPooling2D)             (None, 797, 32, 64)  0           conv1[0][0]                      \n",
            "__________________________________________________________________________________________________\n",
            "conv2 (Conv2D)                  (None, 797, 32, 128) 73856       max1[0][0]                       \n",
            "__________________________________________________________________________________________________\n",
            "max2 (MaxPooling2D)             (None, 398, 16, 128) 0           conv2[0][0]                      \n",
            "__________________________________________________________________________________________________\n",
            "conv3 (Conv2D)                  (None, 398, 16, 256) 295168      max2[0][0]                       \n",
            "__________________________________________________________________________________________________\n",
            "max3 (MaxPooling2D)             (None, 199, 8, 256)  0           conv3[0][0]                      \n",
            "__________________________________________________________________________________________________\n",
            "reshape (Reshape)               (None, 256, 1592)    0           max3[0][0]                       \n",
            "__________________________________________________________________________________________________\n",
            "dense1 (Dense)                  (None, 256, 256)     407808      reshape[0][0]                    \n",
            "__________________________________________________________________________________________________\n",
            "gru1 (GRU)                      (None, 256, 256)     393984      dense1[0][0]                     \n",
            "__________________________________________________________________________________________________\n",
            "gru1_b (GRU)                    (None, 256, 256)     393984      dense1[0][0]                     \n",
            "__________________________________________________________________________________________________\n",
            "add_1 (Add)                     (None, 256, 256)     0           gru1[0][0]                       \n",
            "                                                                 gru1_b[0][0]                     \n",
            "__________________________________________________________________________________________________\n",
            "gru2 (GRU)                      (None, 256, 256)     393984      add_1[0][0]                      \n",
            "__________________________________________________________________________________________________\n",
            "gru2_b (GRU)                    (None, 256, 256)     393984      add_1[0][0]                      \n",
            "__________________________________________________________________________________________________\n",
            "concatenate_1 (Concatenate)     (None, 256, 512)     0           gru2[0][0]                       \n",
            "                                                                 gru2_b[0][0]                     \n",
            "__________________________________________________________________________________________________\n",
            "dense2 (Dense)                  (None, 256, 216)     110808      concatenate_1[0][0]              \n",
            "__________________________________________________________________________________________________\n",
            "softmax (Activation)            (None, 256, 216)     0           dense2[0][0]                     \n",
            "==================================================================================================\n",
            "Total params: 2,464,216\n",
            "Trainable params: 2,464,216\n",
            "Non-trainable params: 0\n",
            "__________________________________________________________________________________________________\n"
          ],
          "name": "stdout"
        }
      ]
    },
    {
      "metadata": {
        "id": "i3VQFnfvijx8",
        "colab_type": "code",
        "colab": {}
      },
      "cell_type": "code",
      "source": [
        "labels = Input(name='the_labels', shape=[256, ], dtype='float32')\n",
        "input_length = Input(name='input_length', shape=[1], dtype='int64')\n",
        "label_length = Input(name='label_length', shape=[1], dtype='int64')\n",
        "# Keras doesn't currently support loss funcs with extra parameters\n",
        "# so CTC loss is implemented in a lambda layer\n",
        "loss_out = Lambda(ctc_lambda_func, output_shape=(1,), name='ctc')([y_pred, labels, input_length, label_length])\n",
        "\n",
        "# clipnorm seems to speeds up convergence\n",
        "sgd = SGD(lr=0.02, decay=1e-6, momentum=0.9, nesterov=True, clipnorm=5)\n",
        "# rms = RMSprop(lr=0.001, clipnorm=5, clipvalue=0.5)"
      ],
      "execution_count": 0,
      "outputs": []
    },
    {
      "metadata": {
        "id": "7lGz9PtTjKU5",
        "colab_type": "code",
        "colab": {}
      },
      "cell_type": "code",
      "source": [
        "model = Model(inputs=[input_data, labels, input_length, label_length], outputs=loss_out)"
      ],
      "execution_count": 0,
      "outputs": []
    },
    {
      "metadata": {
        "id": "B4erKft7jV88",
        "colab_type": "code",
        "colab": {}
      },
      "cell_type": "code",
      "source": [
        "model.compile(loss={'ctc': lambda y_true, y_pred: y_pred}, optimizer=sgd)"
      ],
      "execution_count": 0,
      "outputs": []
    },
    {
      "metadata": {
        "id": "qC0HJPQxiMKJ",
        "colab_type": "code",
        "colab": {
          "base_uri": "https://localhost:8080/",
          "height": 1043
        },
        "outputId": "87456576-7a74-4d8e-b156-5f33d3babb73"
      },
      "cell_type": "code",
      "source": [
        "model.summary()"
      ],
      "execution_count": 11,
      "outputs": [
        {
          "output_type": "stream",
          "text": [
            "__________________________________________________________________________________________________\n",
            "Layer (type)                    Output Shape         Param #     Connected to                     \n",
            "==================================================================================================\n",
            "the_input (InputLayer)          (None, 1595, 64, 1)  0                                            \n",
            "__________________________________________________________________________________________________\n",
            "conv1 (Conv2D)                  (None, 1595, 64, 64) 640         the_input[0][0]                  \n",
            "__________________________________________________________________________________________________\n",
            "max1 (MaxPooling2D)             (None, 797, 32, 64)  0           conv1[0][0]                      \n",
            "__________________________________________________________________________________________________\n",
            "conv2 (Conv2D)                  (None, 797, 32, 128) 73856       max1[0][0]                       \n",
            "__________________________________________________________________________________________________\n",
            "max2 (MaxPooling2D)             (None, 398, 16, 128) 0           conv2[0][0]                      \n",
            "__________________________________________________________________________________________________\n",
            "conv3 (Conv2D)                  (None, 398, 16, 256) 295168      max2[0][0]                       \n",
            "__________________________________________________________________________________________________\n",
            "max3 (MaxPooling2D)             (None, 199, 8, 256)  0           conv3[0][0]                      \n",
            "__________________________________________________________________________________________________\n",
            "reshape (Reshape)               (None, 256, 1592)    0           max3[0][0]                       \n",
            "__________________________________________________________________________________________________\n",
            "dense1 (Dense)                  (None, 256, 256)     407808      reshape[0][0]                    \n",
            "__________________________________________________________________________________________________\n",
            "gru1 (GRU)                      (None, 256, 256)     393984      dense1[0][0]                     \n",
            "__________________________________________________________________________________________________\n",
            "gru1_b (GRU)                    (None, 256, 256)     393984      dense1[0][0]                     \n",
            "__________________________________________________________________________________________________\n",
            "add_1 (Add)                     (None, 256, 256)     0           gru1[0][0]                       \n",
            "                                                                 gru1_b[0][0]                     \n",
            "__________________________________________________________________________________________________\n",
            "gru2 (GRU)                      (None, 256, 256)     393984      add_1[0][0]                      \n",
            "__________________________________________________________________________________________________\n",
            "gru2_b (GRU)                    (None, 256, 256)     393984      add_1[0][0]                      \n",
            "__________________________________________________________________________________________________\n",
            "concatenate_1 (Concatenate)     (None, 256, 512)     0           gru2[0][0]                       \n",
            "                                                                 gru2_b[0][0]                     \n",
            "__________________________________________________________________________________________________\n",
            "dense2 (Dense)                  (None, 256, 216)     110808      concatenate_1[0][0]              \n",
            "__________________________________________________________________________________________________\n",
            "softmax (Activation)            (None, 256, 216)     0           dense2[0][0]                     \n",
            "__________________________________________________________________________________________________\n",
            "the_labels (InputLayer)         (None, 256)          0                                            \n",
            "__________________________________________________________________________________________________\n",
            "input_length (InputLayer)       (None, 1)            0                                            \n",
            "__________________________________________________________________________________________________\n",
            "label_length (InputLayer)       (None, 1)            0                                            \n",
            "__________________________________________________________________________________________________\n",
            "ctc (Lambda)                    (None, 1)            0           softmax[0][0]                    \n",
            "                                                                 the_labels[0][0]                 \n",
            "                                                                 input_length[0][0]               \n",
            "                                                                 label_length[0][0]               \n",
            "==================================================================================================\n",
            "Total params: 2,464,216\n",
            "Trainable params: 2,464,216\n",
            "Non-trainable params: 0\n",
            "__________________________________________________________________________________________________\n"
          ],
          "name": "stdout"
        }
      ]
    },
    {
      "metadata": {
        "id": "FUMmppq4iRsZ",
        "colab_type": "code",
        "colab": {}
      },
      "cell_type": "code",
      "source": [
        "model.load_weights('drive/My Drive/Machine_Learning-prj/vietnamese_address/weight/20xaugument-weights-training-improvement-70-63.54.hdf5')"
      ],
      "execution_count": 0,
      "outputs": []
    },
    {
      "metadata": {
        "id": "u4V_v91YjzD8",
        "colab_type": "code",
        "colab": {}
      },
      "cell_type": "code",
      "source": [
        "test_func = K.function([input_data], [y_pred])"
      ],
      "execution_count": 0,
      "outputs": []
    },
    {
      "metadata": {
        "id": "wXqYVFNvkIEk",
        "colab_type": "code",
        "colab": {}
      },
      "cell_type": "code",
      "source": [
        "model_p = Model(inputs=input_data, outputs=y_pred)"
      ],
      "execution_count": 0,
      "outputs": []
    },
    {
      "metadata": {
        "id": "BIqazM3UkN5R",
        "colab_type": "code",
        "colab": {}
      },
      "cell_type": "code",
      "source": [
        "def decode_predict_ctc(out, top_paths = 1):\n",
        "    results = []\n",
        "    beam_width = 5\n",
        "    print(out.shape)\n",
        "    if beam_width < top_paths:\n",
        "        beam_width = top_paths\n",
        "    for i in range(top_paths):\n",
        "        lables = K.get_value(K.ctc_decode(out, input_length=np.ones(1, dtype=np.float32) * 254,\n",
        "                           greedy=False, beam_width=beam_width, top_paths=top_paths)[0][i])[0]\n",
        "        text = labels_to_text(lables)\n",
        "        results.append(text)\n",
        "    return results"
      ],
      "execution_count": 0,
      "outputs": []
    },
    {
      "metadata": {
        "id": "dm_sdHu-kd5o",
        "colab_type": "code",
        "colab": {}
      },
      "cell_type": "code",
      "source": [
        "from matplotlib import pyplot as plt\n",
        "import cv2"
      ],
      "execution_count": 0,
      "outputs": []
    },
    {
      "metadata": {
        "id": "1IG3XyyhVWdg",
        "colab_type": "code",
        "colab": {}
      },
      "cell_type": "code",
      "source": [
        "def predict(x, images, scripts):\n",
        "    plt.imshow(images[x])\n",
        "    plt.show()\n",
        "\n",
        "    image = images[x]\n",
        "    image = image/255.\n",
        "    image = cv2.copyMakeBorder(image, 0, 0, 0, 1595 - image.shape[1] ,cv2.BORDER_CONSTANT,value=0)\n",
        "    image = np.reshape(image, (1, 64, 1595, 1))\n",
        "    image = image.transpose((0, 2, 1, 3))\n",
        "\n",
        "    net_out_value = model_p.predict(image)\n",
        "    pred_texts = decode_predict_ctc(net_out_value)\n",
        "    print(\"PREDICT:\" + pred_texts[0])\n",
        "    print(\"LABELS: \" + scripts[x]) "
      ],
      "execution_count": 0,
      "outputs": []
    },
    {
      "metadata": {
        "id": "IDoCGsxQWXZd",
        "colab_type": "code",
        "colab": {
          "base_uri": "https://localhost:8080/",
          "height": 135
        },
        "outputId": "ff2d5d82-1efa-4d05-f70f-976686cee96f"
      },
      "cell_type": "code",
      "source": [
        "#Dataset anh Toan/ Trained image\n",
        "predict(50, images, scripts)"
      ],
      "execution_count": 28,
      "outputs": [
        {
          "output_type": "display_data",
          "data": {
            "image/png": "[encoded data removed]",
            "text/plain": [
              "<matplotlib.figure.Figure at 0x7fda700610f0>"
            ]
          },
          "metadata": {
            "tags": []
          }
        },
        {
          "output_type": "stream",
          "text": [
            "(1, 256, 216)\n",
            "PREDICT:(khác của từ thành đạt, nghĩa là có được một cuộc ống giàu sang được mọi người rể phục?\n",
            "LABELS: khác của từ thành đạt, nghĩa là có được một cuộc sống giàu sang, được mọi người nể phục?\n"
          ],
          "name": "stdout"
        }
      ]
    },
    {
      "metadata": {
        "id": "N40uyFhNVezM",
        "colab_type": "code",
        "colab": {
          "base_uri": "https://localhost:8080/",
          "height": 128
        },
        "outputId": "7ff7881d-a142-493f-dd12-c6a3bb12fffe"
      },
      "cell_type": "code",
      "source": [
        "#Dataset anh Toan/ Valid  image\n",
        "predict(7120, images, scripts)"
      ],
      "execution_count": 29,
      "outputs": [
        {
          "output_type": "display_data",
          "data": {
            "image/png": "[encoded data removed]",
            "text/plain": [
              "<matplotlib.figure.Figure at 0x7fda5564fef0>"
            ]
          },
          "metadata": {
            "tags": []
          }
        },
        {
          "output_type": "stream",
          "text": [
            "(1, 256, 216)\n",
            "PREDICT:(C1 - 28 ngày 5 - 10 - 20 của UBN) tỉnh Phú Yên. thủ tục quan trộng nhất\n",
            "LABELS: QĐ - UB ngày 5 - 10 - 2000 của UBND tỉnh Phú Yên. Thủ tục quan trọng nhất\n"
          ],
          "name": "stdout"
        }
      ]
    },
    {
      "metadata": {
        "id": "O56SjTzVVvb9",
        "colab_type": "code",
        "colab": {
          "base_uri": "https://localhost:8080/",
          "height": 139
        },
        "outputId": "3197dc92-ac2f-4c97-c879-2a5ee9cd8352"
      },
      "cell_type": "code",
      "source": [
        "# Dataset anh Toan/ Not-trained  image\n",
        "# predict(7202, images, scripts)"
      ],
      "execution_count": 31,
      "outputs": [
        {
          "output_type": "display_data",
          "data": {
            "image/png": "[encoded data removed]",
            "text/plain": [
              "<matplotlib.figure.Figure at 0x7fda55449ba8>"
            ]
          },
          "metadata": {
            "tags": []
          }
        },
        {
          "output_type": "stream",
          "text": [
            "(1, 256, 216)\n",
            "PREDICT:Thế nhưng, những người đã bỏ công đi tiềm phông buển, cậyg không vớứt trở lại\n",
            "LABELS: Thế nhưng, những người đã bỏ công đi tìm không buồn, cũng không vứt trở lại\n"
          ],
          "name": "stdout"
        }
      ]
    },
    {
      "metadata": {
        "id": "xYkPQiI4V8jt",
        "colab_type": "code",
        "colab": {
          "base_uri": "https://localhost:8080/",
          "height": 134
        },
        "outputId": "60bd1ebc-92a6-4411-e200-6caa196f0c8f"
      },
      "cell_type": "code",
      "source": [
        "# Dataset address/ Trained image\n",
        "# predict(220, images_address, scripts_address)"
      ],
      "execution_count": 21,
      "outputs": [
        {
          "output_type": "display_data",
          "data": {
            "image/png": "[encoded data removed]",
            "text/plain": [
              "<matplotlib.figure.Figure at 0x7fda556005c0>"
            ]
          },
          "metadata": {
            "tags": []
          }
        },
        {
          "output_type": "stream",
          "text": [
            "(1, 256, 216)\n",
            "PREDICT: (Hà Đông, Cuận Hà Đhồng, Hà Nếi \n",
            "LABELS: Hà Đông, Quận Hà Đông, Hà Nội\n"
          ],
          "name": "stdout"
        }
      ]
    },
    {
      "metadata": {
        "id": "CnB_xZs2WD0H",
        "colab_type": "code",
        "colab": {
          "base_uri": "https://localhost:8080/",
          "height": 133
        },
        "outputId": "08008837-d3fa-49cb-ca45-701f7dc26e55"
      },
      "cell_type": "code",
      "source": [
        "# Dataset address/ Valid image\n",
        "# predict(1750, images_address, scripts_address)"
      ],
      "execution_count": 22,
      "outputs": [
        {
          "output_type": "display_data",
          "data": {
            "image/png": "[encoded data removed]",
            "text/plain": [
              "<matplotlib.figure.Figure at 0x7fda555c85c0>"
            ]
          },
          "metadata": {
            "tags": []
          }
        },
        {
          "output_type": "stream",
          "text": [
            "(1, 256, 216)\n",
            "PREDICT:T Tân Thại Hàm đã bịnh Pá, Huyện Định Thát Hộ Một \n",
            "LABELS: Thôn Thái Hòa, Xã Bình Phú, Huyện Thạch Thất, Hà Nội\n"
          ],
          "name": "stdout"
        }
      ]
    },
    {
      "metadata": {
        "id": "qGu27TPOWQQF",
        "colab_type": "code",
        "colab": {
          "base_uri": "https://localhost:8080/",
          "height": 135
        },
        "outputId": "3162a1fa-7e10-49a3-f938-ede1e55a5493"
      },
      "cell_type": "code",
      "source": [
        "# Dataset address/ Non-trained image\n",
        "# predict(1815, images_address, scripts_address)"
      ],
      "execution_count": 23,
      "outputs": [
        {
          "output_type": "display_data",
          "data": {
            "image/png": "[encoded data removed]",
            "text/plain": [
              "<matplotlib.figure.Figure at 0x7fda55581208>"
            ]
          },
          "metadata": {
            "tags": []
          }
        },
        {
          "output_type": "stream",
          "text": [
            "(1, 256, 216)\n",
            "PREDICT:Số 103 P Ngàng, Phương Tân Tến, TP puồn ló Phuợt, Đai lắc.\n",
            "LABELS: Số 120/2 Y Ngông, Phường Tân Tiến, TP.Buôn Ma Thuột, Đắc Lắc\n"
          ],
          "name": "stdout"
        }
      ]
    },
    {
      "metadata": {
        "id": "nZqckduhWTGv",
        "colab_type": "code",
        "colab": {}
      },
      "cell_type": "code",
      "source": [
        ""
      ],
      "execution_count": 0,
      "outputs": []
    }
  ]
}